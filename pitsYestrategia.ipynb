{
 "cells": [
  {
   "cell_type": "code",
   "execution_count": 608,
   "metadata": {},
   "outputs": [],
   "source": [
    "import fastf1 as ff1\n",
    "import pandas as pd\n",
    "from fastf1.ergast import Ergast"
   ]
  },
  {
   "cell_type": "code",
   "execution_count": 779,
   "metadata": {},
   "outputs": [
    {
     "name": "stderr",
     "output_type": "stream",
     "text": [
      "core           INFO \tLoading data for Italian Grand Prix - Race [v3.0.7]\n",
      "req            INFO \tUsing cached data for driver_info\n",
      "req            INFO \tUsing cached data for session_status_data\n",
      "req            INFO \tUsing cached data for lap_count\n",
      "req            INFO \tUsing cached data for track_status_data\n",
      "req            INFO \tUsing cached data for timing_data\n",
      "req            INFO \tUsing cached data for timing_app_data\n",
      "core           INFO \tProcessing timing data...\n",
      "req            INFO \tUsing cached data for car_data\n",
      "req            INFO \tUsing cached data for position_data\n",
      "req            INFO \tUsing cached data for weather_data\n",
      "req            INFO \tUsing cached data for race_control_messages\n",
      "core           INFO \tFinished loading data for 20 drivers: ['1', '11', '55', '16', '63', '44', '23', '4', '14', '77', '40', '81', '2', '24', '10', '18', '27', '20', '31', '22']\n"
     ]
    }
   ],
   "source": [
    "ergast = Ergast()\n",
    "#Cargar la sesión de la carrera\n",
    "race = ff1.get_session(2023, 14, 'R')\n",
    "race.load()\n",
    "\n",
    "res = race.results\n",
    "laps = race.laps"
   ]
  },
  {
   "cell_type": "code",
   "execution_count": 799,
   "metadata": {},
   "outputs": [
    {
     "ename": "AttributeError",
     "evalue": "'DatetimeProperties' object has no attribute 'total_seconds'",
     "output_type": "error",
     "traceback": [
      "\u001b[1;31m---------------------------------------------------------------------------\u001b[0m",
      "\u001b[1;31mAttributeError\u001b[0m                            Traceback (most recent call last)",
      "\u001b[1;32mc:\\Users\\user\\Documents\\Codigos\\Codigos\\Proyectos\\F1\\pitsYestrategia.ipynb Cell 3\u001b[0m line \u001b[0;36m4\n\u001b[0;32m      <a href='vscode-notebook-cell:/c%3A/Users/user/Documents/Codigos/Codigos/Proyectos/F1/pitsYestrategia.ipynb#X10sZmlsZQ%3D%3D?line=1'>2</a>\u001b[0m fast_lap \u001b[39m=\u001b[39m laps\u001b[39m.\u001b[39mpick_driver(\u001b[39m'\u001b[39m\u001b[39mTSU\u001b[39m\u001b[39m'\u001b[39m)\n\u001b[0;32m      <a href='vscode-notebook-cell:/c%3A/Users/user/Documents/Codigos/Codigos/Proyectos/F1/pitsYestrategia.ipynb#X10sZmlsZQ%3D%3D?line=2'>3</a>\u001b[0m fast_lap \u001b[39m=\u001b[39m pd\u001b[39m.\u001b[39mSeries(fast_lap[\u001b[39m'\u001b[39m\u001b[39mLapTime\u001b[39m\u001b[39m'\u001b[39m]\u001b[39m.\u001b[39mmin())\n\u001b[1;32m----> <a href='vscode-notebook-cell:/c%3A/Users/user/Documents/Codigos/Codigos/Proyectos/F1/pitsYestrategia.ipynb#X10sZmlsZQ%3D%3D?line=3'>4</a>\u001b[0m fast_lap \u001b[39m=\u001b[39m fast_lap\u001b[39m.\u001b[39;49mdt\u001b[39m.\u001b[39;49mtotal_seconds()\n\u001b[0;32m      <a href='vscode-notebook-cell:/c%3A/Users/user/Documents/Codigos/Codigos/Proyectos/F1/pitsYestrategia.ipynb#X10sZmlsZQ%3D%3D?line=4'>5</a>\u001b[0m fast_lap\n",
      "\u001b[1;31mAttributeError\u001b[0m: 'DatetimeProperties' object has no attribute 'total_seconds'"
     ]
    }
   ],
   "source": [
    "#Vuelta más rápida de la carrera\n",
    "fast_lap = laps.pick_driver('TSU')\n",
    "fast_lap = pd.Series(fast_lap['LapTime'].min())\n",
    "fast_lap = fast_lap.dt.total_seconds()\n",
    "fast_lap"
   ]
  },
  {
   "cell_type": "code",
   "execution_count": 565,
   "metadata": {},
   "outputs": [
    {
     "data": {
      "text/html": [
       "<div>\n",
       "<style scoped>\n",
       "    .dataframe tbody tr th:only-of-type {\n",
       "        vertical-align: middle;\n",
       "    }\n",
       "\n",
       "    .dataframe tbody tr th {\n",
       "        vertical-align: top;\n",
       "    }\n",
       "\n",
       "    .dataframe thead th {\n",
       "        text-align: right;\n",
       "    }\n",
       "</style>\n",
       "<table border=\"1\" class=\"dataframe\">\n",
       "  <thead>\n",
       "    <tr style=\"text-align: right;\">\n",
       "      <th></th>\n",
       "      <th>Time</th>\n",
       "      <th>Driver</th>\n",
       "      <th>DriverNumber</th>\n",
       "      <th>LapTime</th>\n",
       "      <th>LapNumber</th>\n",
       "      <th>Stint</th>\n",
       "      <th>PitOutTime</th>\n",
       "      <th>PitInTime</th>\n",
       "      <th>Sector1Time</th>\n",
       "      <th>Sector2Time</th>\n",
       "      <th>...</th>\n",
       "      <th>FreshTyre</th>\n",
       "      <th>Team</th>\n",
       "      <th>LapStartTime</th>\n",
       "      <th>LapStartDate</th>\n",
       "      <th>TrackStatus</th>\n",
       "      <th>Position</th>\n",
       "      <th>Deleted</th>\n",
       "      <th>DeletedReason</th>\n",
       "      <th>FastF1Generated</th>\n",
       "      <th>IsAccurate</th>\n",
       "    </tr>\n",
       "  </thead>\n",
       "  <tbody>\n",
       "    <tr>\n",
       "      <th>231</th>\n",
       "      <td>0 days 01:03:55</td>\n",
       "      <td>LEC</td>\n",
       "      <td>16</td>\n",
       "      <td>NaT</td>\n",
       "      <td>0.0</td>\n",
       "      <td>1.0</td>\n",
       "      <td>NaT</td>\n",
       "      <td>NaT</td>\n",
       "      <td>NaT</td>\n",
       "      <td>NaT</td>\n",
       "      <td>...</td>\n",
       "      <td>True</td>\n",
       "      <td>Ferrari</td>\n",
       "      <td>0 days 01:02:16.863000</td>\n",
       "      <td>2023-04-02 05:03:18.685</td>\n",
       "      <td>24</td>\n",
       "      <td>1.0</td>\n",
       "      <td>False</td>\n",
       "      <td></td>\n",
       "      <td>True</td>\n",
       "      <td>False</td>\n",
       "    </tr>\n",
       "  </tbody>\n",
       "</table>\n",
       "<p>1 rows × 31 columns</p>\n",
       "</div>"
      ],
      "text/plain": [
       "               Time Driver DriverNumber LapTime  LapNumber  Stint PitOutTime  \\\n",
       "231 0 days 01:03:55    LEC           16     NaT        0.0    1.0        NaT   \n",
       "\n",
       "    PitInTime Sector1Time Sector2Time  ... FreshTyre     Team  \\\n",
       "231       NaT         NaT         NaT  ...      True  Ferrari   \n",
       "\n",
       "              LapStartTime            LapStartDate  TrackStatus  Position  \\\n",
       "231 0 days 01:02:16.863000 2023-04-02 05:03:18.685           24       1.0   \n",
       "\n",
       "     Deleted  DeletedReason FastF1Generated IsAccurate  \n",
       "231    False                           True      False  \n",
       "\n",
       "[1 rows x 31 columns]"
      ]
     },
     "execution_count": 565,
     "metadata": {},
     "output_type": "execute_result"
    }
   ],
   "source": [
    "r_laptime = pd.Series(res['Time'])\n",
    "r_laptime = r_laptime.dt.total_seconds()\n",
    "fast_lap = laps.pick_driver('LEC')\n",
    "fast_lap"
   ]
  },
  {
   "cell_type": "code",
   "execution_count": 448,
   "metadata": {},
   "outputs": [],
   "source": [
    "#Obtener la estrategia de llantas\n",
    "\n",
    "stints = laps[['Driver', 'Stint', 'Compound', 'LapNumber']]\n",
    "stints = stints.groupby([\"Driver\", \"Stint\", \"Compound\"])\n",
    "stints = stints.count().reset_index()\n",
    "stints = stints.rename(columns={\"LapNumber\": \"StintLength\"})"
   ]
  },
  {
   "cell_type": "code",
   "execution_count": 469,
   "metadata": {},
   "outputs": [
    {
     "data": {
      "text/html": [
       "<div>\n",
       "<style scoped>\n",
       "    .dataframe tbody tr th:only-of-type {\n",
       "        vertical-align: middle;\n",
       "    }\n",
       "\n",
       "    .dataframe tbody tr th {\n",
       "        vertical-align: top;\n",
       "    }\n",
       "\n",
       "    .dataframe thead th {\n",
       "        text-align: right;\n",
       "    }\n",
       "</style>\n",
       "<table border=\"1\" class=\"dataframe\">\n",
       "  <thead>\n",
       "    <tr style=\"text-align: right;\">\n",
       "      <th></th>\n",
       "      <th>Driver</th>\n",
       "      <th>Stint</th>\n",
       "      <th>Compound</th>\n",
       "      <th>StintLength</th>\n",
       "    </tr>\n",
       "  </thead>\n",
       "  <tbody>\n",
       "    <tr>\n",
       "      <th>39</th>\n",
       "      <td>TSU</td>\n",
       "      <td>1.0</td>\n",
       "      <td>MEDIUM</td>\n",
       "      <td>1</td>\n",
       "    </tr>\n",
       "  </tbody>\n",
       "</table>\n",
       "</div>"
      ],
      "text/plain": [
       "   Driver  Stint Compound  StintLength\n",
       "39    TSU    1.0   MEDIUM            1"
      ]
     },
     "execution_count": 469,
     "metadata": {},
     "output_type": "execute_result"
    }
   ],
   "source": [
    "rslt = stints.loc[stints['Driver'] == 'TSU']\n",
    "\n",
    "rslt"
   ]
  },
  {
   "cell_type": "code",
   "execution_count": 450,
   "metadata": {},
   "outputs": [
    {
     "data": {
      "text/plain": [
       "[]"
      ]
     },
     "execution_count": 450,
     "metadata": {},
     "output_type": "execute_result"
    }
   ],
   "source": [
    "#Obtener las paradas en pits\n",
    "pits = ergast.get_pit_stops(season=2023, round=14, driver='tsunoda')\n",
    "\n",
    "pits.content"
   ]
  }
 ],
 "metadata": {
  "kernelspec": {
   "display_name": "Python 3",
   "language": "python",
   "name": "python3"
  },
  "language_info": {
   "codemirror_mode": {
    "name": "ipython",
    "version": 3
   },
   "file_extension": ".py",
   "mimetype": "text/x-python",
   "name": "python",
   "nbconvert_exporter": "python",
   "pygments_lexer": "ipython3",
   "version": "3.11.5"
  },
  "orig_nbformat": 4
 },
 "nbformat": 4,
 "nbformat_minor": 2
}
